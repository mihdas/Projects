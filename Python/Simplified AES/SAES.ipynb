{
 "cells": [
  {
   "cell_type": "code",
   "execution_count": 5,
   "metadata": {},
   "outputs": [],
   "source": [
    "import numpy as np\n",
    "ptext=0b0111011001111001\n",
    "key  =0b1110001010101010\n",
    "ctext=0b1100100001000010\n",
    "\n",
    "rcon1=0b10000000\n",
    "rcon2=0b00110000\n",
    "w0=w1=w2=w3=w4=w5=None\n",
    " \n",
    "# S-Box\n",
    "sBox  = [0x9, 0x4, 0xa, 0xb,\n",
    "         0xd, 0x1, 0x8, 0x5,\n",
    "         0x6, 0x2, 0x0, 0x3,\n",
    "         0xc, 0xe, 0xf, 0x7]\n",
    " \n",
    "# Inverse S-Box\n",
    "sBoxI = [0xa, 0x5, 0x9, 0xb, \n",
    "         0x1, 0x7, 0x8, 0xf,\n",
    "         0x6, 0x0, 0x2, 0x3, \n",
    "         0xc, 0x4, 0xd, 0xe]\n",
    "\n",
    "def split_nibbles(input_stream):\n",
    "    high=input_stream>>8\n",
    "    low=input_stream&0x0ff\n",
    "    nibble1=high>>4\n",
    "    nibble2=high&0x0f\n",
    "    nibble3=low>>4\n",
    "    nibble4=low&0x0f\n",
    "    return([nibble1,nibble2,nibble3,nibble4])\n",
    "\n",
    "def column_matrix(lst):\n",
    "    temp=lst[1]\n",
    "    lst[1]=lst[2]\n",
    "    lst[2]=temp\n",
    "    lst_vector=np.resize(np.array(lst),(2,2))\n",
    "    return (lst_vector)\n",
    "    \n",
    "def switch_rows(lst):\n",
    "    temp=lst[1,0]\n",
    "    lst[1,0]=lst[1,1]\n",
    "    lst[1,1]=temp\n",
    "    return lst\n",
    "\n",
    "def mult(p1, p2):\n",
    "#Multiply two polynomials in GF(2^4) AND P(x)=x^4 + x + 1\n",
    "    poly = 0\n",
    "    while p2:\n",
    "        if p2 & 0b1:\n",
    "            poly ^= p1\n",
    "        p1 <<= 1\n",
    "        if p1 & 0b10000:\n",
    "            p1 ^= 0b11\n",
    "        p2 >>= 1\n",
    "    return poly & 0b1111\n",
    "\n",
    "\n",
    "    \n",
    "\n",
    "def mix_columns(lst):\n",
    "    return np.resize(np.array([lst[0,0] ^ mult(4, lst[1,0]),\n",
    "                               lst[0,1] ^ mult(4, lst[1,1]),\n",
    "                               lst[1,0] ^ mult(4, lst[0,0]),\n",
    "                               lst[1,1] ^ mult(4, lst[0,1])]),(2,2))\n",
    "def inv_mix_columns(lst):\n",
    "    return np.resize(np.array([mult(9, lst[0,0]) ^ mult(2, lst[1,0]),\n",
    "                               mult(9, lst[0,1]) ^ mult(2, lst[1,1]),\n",
    "                               mult(9, lst[1,0]) ^ mult(2, lst[0,0]), \n",
    "                               mult(9, lst[1,1]) ^ mult(2, lst[0,1])]),(2,2))\n",
    "def mat_str(lst):\n",
    "    return ((lst[0,0]<<12)^(lst[1,0]<<8)^(lst[0,1]<<4)^lst[1,1])\n",
    "\n",
    "def expand_keys(key):\n",
    "    w0=key>>8\n",
    "    w1=key&0x0ff\n",
    "    w2=w0^rcon1^((sBox[w1&0x0f]<<4)^(sBox[w1>>4]))\n",
    "    w3=w2^w1\n",
    "    w4=w2^rcon2^((sBox[w3&0x0f]<<4)^(sBox[w3>>4]))\n",
    "    w5=w3^w4\n",
    "    return([(w0<<8)^w1,(w2<<8)^w3,(w4<<8)^w5])\n",
    "\n",
    "    \n",
    "\n"
   ]
  },
  {
   "cell_type": "code",
   "execution_count": 2,
   "metadata": {},
   "outputs": [],
   "source": [
    "def encrypt():\n",
    "    #initializing \n",
    "    state_vector=column_matrix(split_nibbles(ptext))\n",
    "    keys=expand_keys(key)\n",
    "    k01_matrix=column_matrix(split_nibbles(keys[0]))\n",
    "    k23_matrix=column_matrix(split_nibbles(keys[1]))\n",
    "    k45_matrix=column_matrix(split_nibbles(keys[2]))\n",
    "    #round 0\n",
    "    state_vector^=k01_matrix\n",
    "    #round 1\n",
    "    for i in range(0,2):\n",
    "        for j in range(0,2):\n",
    "            state_vector[i,j]=sBox[state_vector[i,j]]       \n",
    "    state_vector=switch_rows(state_vector)\n",
    "    state_vector=mix_columns(state_vector)\n",
    "    state_vector^=k23_matrix\n",
    "    #round 2\n",
    "    for i in range(0,2):\n",
    "        for j in range(0,2):\n",
    "            state_vector[i,j]=sBox[state_vector[i,j]]\n",
    "    state_vector=switch_rows(state_vector)\n",
    "    state_vector^=k45_matrix\n",
    "    print(state_vector)\n",
    "    print(bin(mat_str(state_vector)))\n"
   ]
  },
  {
   "cell_type": "code",
   "execution_count": 6,
   "metadata": {},
   "outputs": [],
   "source": [
    "def decrypt():\n",
    "    #initializing \n",
    "    state_vector=column_matrix(split_nibbles(ctext))\n",
    "    keys=expand_keys(key)\n",
    "    k01_matrix=column_matrix(split_nibbles(keys[0]))\n",
    "    k23_matrix=column_matrix(split_nibbles(keys[1]))\n",
    "    k45_matrix=column_matrix(split_nibbles(keys[2]))\n",
    "    #round 0\n",
    "    state_vector^=k45_matrix\n",
    "    #round 1\n",
    "    state_vector=switch_rows(state_vector)\n",
    "    for i in range(0,2):\n",
    "        for j in range(0,2):\n",
    "            state_vector[i,j]=sBoxI[state_vector[i,j]]       \n",
    "    state_vector^=k23_matrix\n",
    "    #round 2\n",
    "    state_vector=inv_mix_columns(state_vector)\n",
    "    state_vector=switch_rows(state_vector)\n",
    "    for i in range(0,2):\n",
    "        for j in range(0,2):\n",
    "            state_vector[i,j]=sBoxI[state_vector[i,j]]\n",
    "    state_vector^=k01_matrix\n",
    "    print(state_vector)\n",
    "    print(bin(mat_str(state_vector)))\n",
    "    \n"
   ]
  },
  {
   "cell_type": "code",
   "execution_count": 4,
   "metadata": {},
   "outputs": [
    {
     "name": "stdout",
     "output_type": "stream",
     "text": [
      "[[12  4]\n",
      " [ 8  2]]\n",
      "0b1100100001000010\n"
     ]
    }
   ],
   "source": [
    "encrypt()\n",
    "    "
   ]
  },
  {
   "cell_type": "code",
   "execution_count": 7,
   "metadata": {},
   "outputs": [
    {
     "name": "stdout",
     "output_type": "stream",
     "text": [
      "[[7 7]\n",
      " [6 9]]\n",
      "0b111011001111001\n"
     ]
    }
   ],
   "source": [
    "decrypt()"
   ]
  },
  {
   "cell_type": "code",
   "execution_count": null,
   "metadata": {},
   "outputs": [],
   "source": []
  }
 ],
 "metadata": {
  "kernelspec": {
   "display_name": "Python 3",
   "language": "python",
   "name": "python3"
  },
  "language_info": {
   "codemirror_mode": {
    "name": "ipython",
    "version": 3
   },
   "file_extension": ".py",
   "mimetype": "text/x-python",
   "name": "python",
   "nbconvert_exporter": "python",
   "pygments_lexer": "ipython3",
   "version": "3.7.4"
  }
 },
 "nbformat": 4,
 "nbformat_minor": 2
}
